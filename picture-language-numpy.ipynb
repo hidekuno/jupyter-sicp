{
 "cells": [
  {
   "cell_type": "markdown",
   "metadata": {},
   "source": [
    "<div style=\"text-align: right\">hidekuno@gmail.com<br>2021-02-28</div> \n",
    "\n",
    "# SICP 図形言語(numpy版)\n",
    "   https://sicp.iijlab.net/fulltext/x224.html を参考にnumpyで実装\n",
    "\n",
    "## matplot"
   ]
  },
  {
   "cell_type": "code",
   "execution_count": 1,
   "metadata": {},
   "outputs": [],
   "source": [
    "import matplotlib.pyplot as plt\n",
    "import numpy as np\n",
    "from math import cos\n",
    "from math import sin\n",
    "from math import pi\n",
    "\n",
    "def draw_init():\n",
    "    plt.axes().set_aspect('equal')\n",
    "    plt.ylim([1, 0])\n",
    "    plt.axis('off')\n",
    "\n",
    "def draw_line(s,e):\n",
    "    plt.plot([xcor_vect(s), xcor_vect(e)], [ycor_vect(s), ycor_vect(e)], 'black',linewidth=0.8)"
   ]
  },
  {
   "cell_type": "markdown",
   "metadata": {},
   "source": [
    "## フレームの構築子\n",
    "$$\n",
    "\\mathrm{MakeFrame}(origin,edge1, edge2) =\n",
    "\\mathrm{MakeFrame}(MakeVect(x_1,y_1),MakeVect(x_2,y_2), MakeVect(x_3,y_3))\n",
    "$$"
   ]
  },
  {
   "cell_type": "code",
   "execution_count": 2,
   "metadata": {},
   "outputs": [],
   "source": [
    "def make_frame(origin, edge1, edge2): return np.array([origin, edge1, edge2])\n",
    "def origin_frame(frame):return frame[0]\n",
    "def edge1_frame(frame): return frame[1]\n",
    "def edge2_frame(frame): return frame[2]"
   ]
  },
  {
   "cell_type": "markdown",
   "metadata": {},
   "source": [
    "## ベクトルの構築子\n",
    "$$\n",
    "\\mathrm{MakeVect}(x,y) =\n",
    "\\begin{cases}\n",
    " x: \\quad 0 \\leqq x \\leqq 1.0 \\\\\n",
    " y: \\quad 0 \\leqq y \\leqq 1.0 \\\\\n",
    "\\end{cases}\n",
    "$$"
   ]
  },
  {
   "cell_type": "code",
   "execution_count": 3,
   "metadata": {},
   "outputs": [],
   "source": [
    "def make_vect(x, y): return np.array([x, y])\n",
    "def xcor_vect(v): return v[0]\n",
    "def ycor_vect(v): return v[1]"
   ]
  },
  {
   "cell_type": "markdown",
   "metadata": {},
   "source": [
    "## フレーム内へベクタを写像\n",
    "\n",
    "$(x_a, y_a) = Origin(Frame) + x*Edge_1(Frame) + y*Edge_2(Frame)$ = $(x_0, y_0) + s_x*(x_1, y_1) + s_y*(x_2, y_2$)\n",
    "\n",
    "$$\n",
    "\\left[\\begin{array}{c}\n",
    "    x_a \\\\\n",
    "    y_a\n",
    "\\end{array}\\right]\n",
    "=\n",
    "\\left[\\begin{array}{c}\n",
    "    x_0 \\\\\n",
    "    y_0\n",
    "\\end{array}\\right]\n",
    "+\n",
    "\\left[\\begin{array}{c}\n",
    "    x_1 \\\\\n",
    "    y_1\n",
    "\\end{array}\\right]\n",
    "*\n",
    "s_x\n",
    "+\n",
    "\\left[\\begin{array}{c}\n",
    "    x_2 \\\\\n",
    "    y_2\n",
    "\\end{array}\\right]\n",
    "*\n",
    "s_y\n",
    "$$\n"
   ]
  },
  {
   "cell_type": "code",
   "execution_count": 4,
   "metadata": {},
   "outputs": [],
   "source": [
    "def frame_coord_map(frame):\n",
    "    return lambda v: origin_frame(frame) + xcor_vect(v) * edge1_frame(frame) + ycor_vect(v) * edge2_frame(frame)"
   ]
  },
  {
   "cell_type": "markdown",
   "metadata": {},
   "source": [
    "## 新しいペインタの構築子\n",
    "#### ペインタとフレームの変換法の情報をとり, 新しいペインタを作る"
   ]
  },
  {
   "cell_type": "code",
   "execution_count": 5,
   "metadata": {},
   "outputs": [],
   "source": [
    "def transform_painter(painter, origin, corner1, corner2):\n",
    "    def _lambda(frame):\n",
    "        m = frame_coord_map(frame)\n",
    "        new_origin = m(origin)\n",
    "        return painter(make_frame(new_origin, m(corner1) - new_origin, m(corner2) - new_origin))                                  \n",
    "    return _lambda"
   ]
  },
  {
   "cell_type": "markdown",
   "metadata": {},
   "source": [
    "## ペインタの応用\n",
    "##### 垂直反転\n",
    "$$\n",
    "\\boldsymbol{v} =\n",
    "\\left[\\begin{array}{c}\n",
    "    0.0 & 1.0 \\\\\n",
    "    1.0 & 1.0 \\\\\n",
    "    0.0 & 0.0 \\\\\n",
    "\\end{array}\\right]\n",
    "$$\n",
    "\n",
    "##### 水平反転\n",
    "$$\n",
    "\\boldsymbol{v} =\n",
    "\\left[\\begin{array}{c}\n",
    "    1.0 & 0.0 \\\\\n",
    "    0.0 & 0.0 \\\\\n",
    "    1.0 & 1.0 \\\\\n",
    "\\end{array}\\right]\n",
    "$$\n",
    "\n",
    "##### 90度回転\n",
    "$$\n",
    "\\boldsymbol{v} =\n",
    "\\left[\\begin{array}{c}\n",
    "    1.0 & 0.0 \\\\\n",
    "    1.0 & 1.0 \\\\\n",
    "    0.0 & 0.0 \\\\\n",
    "\\end{array}\\right]\n",
    "$$\n",
    "\n",
    "##### 270度回転\n",
    "$$\n",
    "\\boldsymbol{v} =\n",
    "\\left[\\begin{array}{c}\n",
    "    0.0 & 1.0 \\\\\n",
    "    0.0 & 0.0 \\\\\n",
    "    1.0 & 1.0 \\\\\n",
    "\\end{array}\\right]\n",
    "$$\n",
    "\n",
    "##### 右上の四半分に画像を縮める\n",
    "$$\n",
    "\\boldsymbol{v} =\n",
    "\\left[\\begin{array}{c}\n",
    "    0.5 & 0.5 \\\\\n",
    "    1.0 & 0.5 \\\\\n",
    "    0.5 & 0.0 \\\\\n",
    "\\end{array}\\right]\n",
    "$$"
   ]
  },
  {
   "cell_type": "code",
   "execution_count": 6,
   "metadata": {},
   "outputs": [],
   "source": [
    "def flip_vert(painter):\n",
    "      return transform_painter(painter,\n",
    "                               make_vect(0.0, 1.0),\n",
    "                               make_vect(1.0, 1.0),\n",
    "                               make_vect(0.0, 0.0))\n",
    "\n",
    "def flip_horiz(painter):\n",
    "      return transform_painter(painter,\n",
    "                               make_vect(1.0, 0.0),\n",
    "                               make_vect(0.0, 0.0),\n",
    "                               make_vect(1.0, 1.0))\n",
    "\n",
    "def rotate90(painter):\n",
    "      return transform_painter(painter,\n",
    "                               make_vect(1.0, 0.0),\n",
    "                               make_vect(1.0, 1.0),\n",
    "                               make_vect(0.0, 0.0))\n",
    "\n",
    "def rotate270(painter):\n",
    "      return transform_painter(painter,\n",
    "                               make_vect(0.0, 1.0),\n",
    "                               make_vect(0.0, 0.0),\n",
    "                               make_vect(1.0, 1.0))\n",
    "\n",
    "def shrink_to_upper_right(painter):\n",
    "      return transform_painter(painter,\n",
    "                               make_vect(0.5, 0.5),\n",
    "                               make_vect(1.0, 0.5),\n",
    "                               make_vect(0.5, 0.0))"
   ]
  },
  {
   "cell_type": "markdown",
   "metadata": {},
   "source": [
    "## ペインタの組合せ"
   ]
  },
  {
   "cell_type": "code",
   "execution_count": 7,
   "metadata": {},
   "outputs": [],
   "source": [
    "def beside(painter1, painter2):\n",
    "    split_point = make_vect(0.5, 0.0)\n",
    "    paint_left = transform_painter(painter1,\n",
    "                                   make_vect(0.0, 0.0),\n",
    "                                   split_point,\n",
    "                                   make_vect(0.0, 1.0))\n",
    "    paint_right = transform_painter(painter2,\n",
    "                                    split_point,\n",
    "                                    make_vect(1.0, 0.0),\n",
    "                                    make_vect(0.5, 1.0))\n",
    "    def _lambda(frame):\n",
    "        paint_left(frame)\n",
    "        paint_right(frame)\n",
    "\n",
    "    return _lambda\n",
    "\n",
    "def below(painter1, painter2): return rotate90(beside(rotate270(painter1), rotate270(painter2)))\n",
    "\n",
    "def up_split(painter, n):\n",
    "    if n == 0:\n",
    "        return painter\n",
    "    else:\n",
    "        smaller = up_split(painter, n - 1)\n",
    "        return below(painter, beside(smaller, smaller))\n",
    "    \n",
    "def right_split(painter, n):\n",
    "    if n == 0:\n",
    "        return painter\n",
    "    else:\n",
    "        smaller = right_split(painter, n - 1)\n",
    "        return beside(painter, below(smaller, smaller))    \n",
    "    \n",
    "def corner_split(painter, n):\n",
    "    if n == 0:\n",
    "        return painter\n",
    "    else:\n",
    "        up = up_split(painter, n - 1)\n",
    "        right = right_split(painter, n - 1)\n",
    "        top_left = beside(up, up)\n",
    "        bottom_right = below(right, right)\n",
    "        corner = corner_split(painter, n - 1)\n",
    "\n",
    "        return beside(below(painter, top_left),\n",
    "                    below(bottom_right, corner))\n",
    "\n",
    "def square_limit(painter, n):\n",
    "    quarter = corner_split(painter, n)\n",
    "    half = beside(flip_horiz(quarter), quarter)\n",
    "    return below(flip_vert(half), half)"
   ]
  },
  {
   "cell_type": "markdown",
   "metadata": {},
   "source": [
    "## 線分の構築子と描画処理\n",
    "$$\n",
    "\\mathrm{MakeSegment}(start, end) =\n",
    "\\mathrm{MakeSegment}(MakeVect(x_1,y_1),MakeVect(x_2,y_2))\n",
    "$$"
   ]
  },
  {
   "cell_type": "code",
   "execution_count": 8,
   "metadata": {},
   "outputs": [],
   "source": [
    "def make_segment(start, end): return np.array([start,end])\n",
    "def start_segment(seg): return seg[0]\n",
    "def end_segment(seg): return seg[1]\n",
    "\n",
    "def segments_painter(segment_list):\n",
    "    def _lambda(frame):\n",
    "        m = frame_coord_map(frame)\n",
    "        for segment in segment_list:\n",
    "            draw_line(m(start_segment(segment)), m(end_segment(segment)))\n",
    "    return _lambda"
   ]
  },
  {
   "cell_type": "markdown",
   "metadata": {},
   "source": [
    "## 描画データ"
   ]
  },
  {
   "cell_type": "code",
   "execution_count": 9,
   "metadata": {},
   "outputs": [],
   "source": [
    "def wave():\n",
    "    segments = (\n",
    "        make_segment(make_vect(0.35, 0.15) ,make_vect(0.4, 0)),\n",
    "        make_segment(make_vect(0.65, 0.15) ,make_vect(0.6, 0)),\n",
    "        make_segment(make_vect(0.35, 0.15) ,make_vect(0.4, 0.35)),\n",
    "        make_segment(make_vect(0.65, 0.15) ,make_vect(0.6, 0.35)),\n",
    "        make_segment(make_vect(0.6, 0.35)  ,make_vect(0.75, 0.35)),\n",
    "        make_segment(make_vect(0.4, 0.35)  ,make_vect(0.3, 0.35)),\n",
    "        make_segment(make_vect(0.75, 0.35) ,make_vect(1, 0.65)),\n",
    "        make_segment(make_vect(0.6, 0.55)  ,make_vect(1, 0.85)),\n",
    "        make_segment(make_vect(0.6, 0.55)  ,make_vect(0.75, 1)),\n",
    "        make_segment(make_vect(0.5, 0.7)   ,make_vect(0.6, 1)),\n",
    "        make_segment(make_vect(0.3, 0.35)  ,make_vect(0.15, 0.4)),\n",
    "        make_segment(make_vect(0.3, 0.4)   ,make_vect(0.15, 0.6)),\n",
    "        make_segment(make_vect(0.15, 0.4)  ,make_vect(0, 0.15)),\n",
    "        make_segment(make_vect(0.15, 0.6)  ,make_vect(0, 0.35)),\n",
    "        make_segment(make_vect(0.3, 0.4)   ,make_vect(0.35, 0.5)),\n",
    "        make_segment(make_vect(0.35, 0.5)  ,make_vect(0.25, 1)),\n",
    "        make_segment(make_vect(0.5, 0.7)   ,make_vect(0.4, 1)),)\n",
    "    return segments_painter(segments)"
   ]
  },
  {
   "cell_type": "code",
   "execution_count": 10,
   "metadata": {},
   "outputs": [
    {
     "data": {
      "image/png": "[encoded data removed]",
      "text/plain": [
       "<Figure size 432x288 with 1 Axes>"
      ]
     },
     "metadata": {
      "needs_background": "light"
     },
     "output_type": "display_data"
    }
   ],
   "source": [
    "draw_init()\n",
    "frame = make_frame(make_vect(0, 0),make_vect(1, 0),make_vect(0, 1))\n",
    "\n",
    "#beside(wave(),wave())(frame)\n",
    "#below(wave(),wave())(frame)\n",
    "#up_split(wave(),1)(frame)\n",
    "#right_split(wave(),1)(frame)\n",
    "#corner_split(wave(),1)(frame)\n",
    "square_limit(wave(),2)(frame)"
   ]
  },
  {
   "cell_type": "markdown",
   "metadata": {},
   "source": [
    "## Koch曲線\n",
    "\n",
    "##### a. 線分 [(x0,y0), (x1,y1)] を 1:2 に内分\n",
    "$$\n",
    "\\left[\\begin{array}{c}\n",
    "    x_a \\\\\n",
    "    y_a\n",
    "\\end{array}\\right]\n",
    "=\n",
    "\\left[\\begin{array}{c}\n",
    "    (x_0 * 2) + x_1 \\\\\n",
    "    (y_0 * 2) + y_1\n",
    "\\end{array}\\right]\n",
    "*\n",
    "\\frac{1}{3}\n",
    "$$\n",
    "\n",
    "##### b. 線分 [(x0,y0), (x1,y1)] を 2:1 に内分\n",
    "$$\n",
    "\\left[\\begin{array}{c}\n",
    "    x_b \\\\\n",
    "    y_b\n",
    "\\end{array}\\right]\n",
    "=\n",
    "\\left[\\begin{array}{c}\n",
    "    (x_1 * 2) + x_0 \\\\\n",
    "    (y_1 * 2) + y_0\n",
    "\\end{array}\\right]\n",
    "*\n",
    "\\frac{1}{3}\n",
    "$$\n",
    "\n",
    "#####  c. aとbより60度回転させる\n",
    "$$\n",
    "\\left[\\begin{array}{c}\n",
    "    x_c \\\\\n",
    "    y_c\n",
    "\\end{array}\\right]\n",
    "=\n",
    "\\left[\\begin{array}{c}\n",
    "    x_a \\\\\n",
    "    y_a\n",
    "\\end{array}\\right]\n",
    "+\n",
    "\\left[\\begin{array}{c}\n",
    "    \\cos \\theta & -\\sin \\theta \\\\\n",
    "    \\sin \\theta & \\cos \\theta\n",
    "\\end{array}\\right]\n",
    "\\left[\\begin{array}{c}\n",
    "    (x_b - x_a) \\\\\n",
    "    (y_b - y_a)\n",
    "\\end{array}\\right]\n",
    "$$\n"
   ]
  },
  {
   "cell_type": "code",
   "execution_count": 11,
   "metadata": {},
   "outputs": [],
   "source": [
    "def make_matrix(a,b,c,d):\n",
    "    return np.array([[a,b],[c,d]])"
   ]
  },
  {
   "cell_type": "code",
   "execution_count": 12,
   "metadata": {},
   "outputs": [],
   "source": [
    "def koch(n):\n",
    "    cs = cos((pi * 60) / 180)\n",
    "    sn = sin((pi * 60) / 180)\n",
    "\n",
    "    def _lambda(frame):\n",
    "        def koch_iter(v0, v1, c):\n",
    "            m =  frame_coord_map(frame)\n",
    "\n",
    "            if c > 1:\n",
    "                va = (v0 * 2 + v1) / 3\n",
    "                vb = (v1 * 2 + v0) / 3\n",
    "                vc = va + (make_matrix(cs,-sn,sn,cs) * (vb-va)).sum(axis=1)\n",
    "\n",
    "                koch_iter(v0, va, c - 1)\n",
    "                koch_iter(va, vc, c - 1)\n",
    "                koch_iter(vc, vb, c - 1)\n",
    "                koch_iter(vb, v1, c - 1)\n",
    "            else:\n",
    "                draw_line(m(v0), m(v1))\n",
    "\n",
    "        va = make_vect(0.04722222222222222, 0.6964285714285714)\n",
    "        vb = make_vect(0.6708333333333333, 0.6964285714285714)\n",
    "        vc = va + (make_matrix(cs,sn,-sn, cs) * (vb-va)).sum(axis=1)\n",
    "\n",
    "        koch_iter(vc,va,n)\n",
    "        koch_iter(va,vb,n)\n",
    "        koch_iter(vb,vc,n)\n",
    "    return _lambda"
   ]
  },
  {
   "cell_type": "code",
   "execution_count": 13,
   "metadata": {},
   "outputs": [
    {
     "data": {
      "image/png": "[encoded data removed]",
      "text/plain": [
       "<Figure size 432x288 with 1 Axes>"
      ]
     },
     "metadata": {
      "needs_background": "light"
     },
     "output_type": "display_data"
    }
   ],
   "source": [
    "draw_init()\n",
    "frame = make_frame(make_vect(0, 0),make_vect(1, 0),make_vect(0, 1))\n",
    "transform_painter(koch(4),\n",
    "                  make_vect(0.0, 0.0),\n",
    "                  make_vect(1.0, 0.0),\n",
    "                  make_vect(0.0, 1.0))(frame)"
   ]
  },
  {
   "cell_type": "markdown",
   "metadata": {},
   "source": [
    "## ツリーカーブ\n",
    "\n",
    "#####  右方向(回転)\n",
    "$$\n",
    "\\left[\\begin{array}{c}\n",
    "    x_a \\\\\n",
    "    y_a\n",
    "\\end{array}\\right]\n",
    "=\n",
    "\\left[\\begin{array}{c}\n",
    "    x_1 \\\\\n",
    "    y_1\n",
    "\\end{array}\\right]\n",
    "+\n",
    "\\left[\\begin{array}{c}\n",
    "    \\cos \\theta & -\\sin \\theta \\\\\n",
    "    \\sin \\theta & \\cos \\theta\n",
    "\\end{array}\\right]\n",
    "\\left[\\begin{array}{c}\n",
    "    (x_1 - x_0) \\\\\n",
    "    (y_1 - y_0) \n",
    "\\end{array}\\right]\n",
    "$$\n",
    "#####  左方向(逆回転)\n",
    "$$\n",
    "\\left[\\begin{array}{c}\n",
    "    x_b \\\\\n",
    "    y_b\n",
    "\\end{array}\\right]\n",
    "=\n",
    "\\left[\\begin{array}{c}\n",
    "    x_1 \\\\\n",
    "    y_1\n",
    "\\end{array}\\right]\n",
    "+\n",
    "\\left[\\begin{array}{c}\n",
    "    \\cos (-\\theta) & -\\sin (-\\theta) \\\\\n",
    "    \\sin (-\\theta) & \\cos (-\\theta)\n",
    "\\end{array}\\right]\n",
    "\\left[\\begin{array}{c}\n",
    "    (x_1 - x_0) \\\\\n",
    "    (y_1 - y_0) \n",
    "\\end{array}\\right]\n",
    "=\n",
    "\\left[\\begin{array}{c}\n",
    "    x_1 \\\\\n",
    "    y_1\n",
    "\\end{array}\\right]\n",
    "+\n",
    "\\left[\\begin{array}{c}\n",
    "    \\cos \\theta & \\sin \\theta \\\\\n",
    "    -\\sin \\theta & \\cos \\theta\n",
    "\\end{array}\\right]\n",
    "\\left[\\begin{array}{c}\n",
    "    (x_1 - x_0) \\\\\n",
    "    (y_1 - y_0) \n",
    "\\end{array}\\right]\n",
    "$$\n"
   ]
  },
  {
   "cell_type": "code",
   "execution_count": 14,
   "metadata": {},
   "outputs": [],
   "source": [
    "def tree(n):\n",
    "    def _lambda(frame):\n",
    "        cs = cos((pi * 15) / 180)\n",
    "        sn = sin((pi * 45) / 180)\n",
    "        alpha = 0.6\n",
    "\n",
    "        def tree_iter(v0, v1, c):\n",
    "            m = frame_coord_map(frame)\n",
    "\n",
    "            va = v1 + (make_matrix(cs,-sn,sn,cs) * (v1-v0) * alpha).sum(axis=1)\n",
    "            vb = v1 + (make_matrix(cs,sn,-sn,cs) * (v1-v0) * alpha).sum(axis=1)\n",
    "\n",
    "            draw_line(m(v0), m(v1))\n",
    "            if  0 >= c:\n",
    "                draw_line(m(v1), m(va))\n",
    "                draw_line(m(v1), m(vb))\n",
    "            else:\n",
    "                tree_iter(v1, va, c - 1)\n",
    "                tree_iter(v1, vb, c - 1)\n",
    "        tree_iter(make_vect(0.4166666666666667, 0.7142857142857143),\n",
    "                  make_vect(0.4166666666666667, 0.5357142857142857), n)\n",
    "    return _lambda"
   ]
  },
  {
   "cell_type": "code",
   "execution_count": 15,
   "metadata": {},
   "outputs": [
    {
     "data": {
      "image/png": "[encoded data removed]",
      "text/plain": [
       "<Figure size 432x288 with 1 Axes>"
      ]
     },
     "metadata": {
      "needs_background": "light"
     },
     "output_type": "display_data"
    }
   ],
   "source": [
    "draw_init()\n",
    "frame = make_frame(make_vect(0, 0),make_vect(1, 0),make_vect(0, 1))\n",
    "transform_painter(tree(8),\n",
    "                  make_vect(0.0, 0.0),\n",
    "                  make_vect(1.0, 0.0),\n",
    "                  make_vect(0.0, 1.0))(frame)"
   ]
  },
  {
   "cell_type": "code",
   "execution_count": null,
   "metadata": {},
   "outputs": [],
   "source": []
  }
 ],
 "metadata": {
  "kernelspec": {
   "display_name": "Python 3",
   "language": "python",
   "name": "python3"
  },
  "language_info": {
   "codemirror_mode": {
    "name": "ipython",
    "version": 3
   },
   "file_extension": ".py",
   "mimetype": "text/x-python",
   "name": "python",
   "nbconvert_exporter": "python",
   "pygments_lexer": "ipython3",
   "version": "3.8.5"
  }
 },
 "nbformat": 4,
 "nbformat_minor": 4
}
